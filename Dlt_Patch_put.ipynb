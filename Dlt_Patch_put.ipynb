{
 "cells": [
  {
   "cell_type": "markdown",
   "metadata": {},
   "source": [
    "Put"
   ]
  },
  {
   "cell_type": "code",
   "execution_count": 6,
   "metadata": {},
   "outputs": [
    {
     "name": "stdout",
     "output_type": "stream",
     "text": [
      "{'args': {}, 'data': '{\"my_key\": \"Hello, World!\", \"username\": \"User123\", \"email\": \"email123@example.com\"}', 'files': {}, 'form': {}, 'headers': {'Accept': '*/*', 'Accept-Encoding': 'gzip, deflate, br, zstd', 'Content-Length': '83', 'Content-Type': 'application/json', 'Host': 'httpbin.org', 'User-Agent': 'python-requests/2.32.2', 'X-Amzn-Trace-Id': 'Root=1-66dbfc9d-3ebbbbbd2db22e7566c0f34a'}, 'json': {'email': 'email123@example.com', 'my_key': 'Hello, World!', 'username': 'User123'}, 'origin': '223.233.86.96', 'url': 'https://httpbin.org/put'}\n"
     ]
    }
   ],
   "source": [
    "import requests\n",
    "\n",
    "url='https://httpbin.org/put'\n",
    "\n",
    "json={\n",
    "    \"my_key\": \"Hello, World!\",\n",
    "    'username':'User123',\n",
    "    'email':'email123@example.com'\n",
    "}\n",
    "\n",
    "response =requests.put(url,json=json)\n",
    "\n",
    "json_response=response.json()\n",
    "\n",
    "print(json_response)"
   ]
  },
  {
   "cell_type": "markdown",
   "metadata": {},
   "source": [
    "Patch"
   ]
  },
  {
   "cell_type": "code",
   "execution_count": 7,
   "metadata": {},
   "outputs": [
    {
     "name": "stdout",
     "output_type": "stream",
     "text": [
      "{'args': {}, 'data': '{\"my_key\": \"Welcome!\", \"username\": \"User123\"}', 'files': {}, 'form': {}, 'headers': {'Accept': '*/*', 'Accept-Encoding': 'gzip, deflate, br, zstd', 'Content-Length': '45', 'Content-Type': 'application/json', 'Host': 'httpbin.org', 'User-Agent': 'python-requests/2.32.2', 'X-Amzn-Trace-Id': 'Root=1-66dbfcfa-5162637f580d7d0b7fc92961'}, 'json': {'my_key': 'Welcome!', 'username': 'User123'}, 'origin': '223.233.86.96', 'url': 'https://httpbin.org/patch'}\n"
     ]
    }
   ],
   "source": [
    "import requests\n",
    "\n",
    "url='https://httpbin.org/patch'\n",
    "\n",
    "json={\n",
    "    \"my_key\": \"Welcome!\",\n",
    "    'username':'User123'\n",
    "}\n",
    "\n",
    "response =requests.patch(url,json=json)\n",
    "\n",
    "json_response=response.json()\n",
    "\n",
    "print(json_response)"
   ]
  },
  {
   "cell_type": "markdown",
   "metadata": {},
   "source": [
    "Delete"
   ]
  },
  {
   "cell_type": "code",
   "execution_count": 8,
   "metadata": {},
   "outputs": [
    {
     "name": "stdout",
     "output_type": "stream",
     "text": [
      "{'args': {}, 'data': '', 'files': {}, 'form': {}, 'headers': {'Accept': '*/*', 'Accept-Encoding': 'gzip, deflate, br, zstd', 'Content-Length': '0', 'Host': 'httpbin.org', 'User-Agent': 'python-requests/2.32.2', 'X-Amzn-Trace-Id': 'Root=1-66dbfd2a-0c3bb11e70e4e84738f9df3c'}, 'json': None, 'origin': '223.233.86.96', 'url': 'https://httpbin.org/delete'}\n"
     ]
    }
   ],
   "source": [
    "import requests\n",
    "\n",
    "url='https://httpbin.org/delete'\n",
    "\n",
    "\n",
    "response =requests.delete(url)\n",
    "\n",
    "json_response=response.json()\n",
    "\n",
    "print(json_response)"
   ]
  }
 ],
 "metadata": {
  "kernelspec": {
   "display_name": "base",
   "language": "python",
   "name": "python3"
  },
  "language_info": {
   "codemirror_mode": {
    "name": "ipython",
    "version": 3
   },
   "file_extension": ".py",
   "mimetype": "text/x-python",
   "name": "python",
   "nbconvert_exporter": "python",
   "pygments_lexer": "ipython3",
   "version": "3.12.4"
  }
 },
 "nbformat": 4,
 "nbformat_minor": 2
}
